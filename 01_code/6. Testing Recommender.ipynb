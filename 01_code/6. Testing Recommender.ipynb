{
 "cells": [
  {
   "cell_type": "markdown",
   "metadata": {},
   "source": [
    "# Healthier Groceries Recommender\n",
    "\n",
    "### Testing Recommender"
   ]
  },
  {
   "cell_type": "markdown",
   "metadata": {},
   "source": [
    "*In this notebook you will find:*\n",
    "1. Loop to select food items to test recommender.  Output is a dataframe with originally selected item and then healthier recommended item."
   ]
  },
  {
   "cell_type": "code",
   "execution_count": 33,
   "metadata": {},
   "outputs": [],
   "source": [
    "import pandas as pd\n",
    "import numpy as np\n",
    "import matplotlib.pyplot as plt\n",
    "import seaborn as sns\n",
    "import random"
   ]
  },
  {
   "cell_type": "code",
   "execution_count": 2,
   "metadata": {},
   "outputs": [],
   "source": [
    "final = pd.read_csv('Final_Nutrition.csv')"
   ]
  },
  {
   "cell_type": "code",
   "execution_count": 4,
   "metadata": {},
   "outputs": [],
   "source": [
    "final.set_index('fdc_id', inplace=True, drop=False)"
   ]
  },
  {
   "cell_type": "code",
   "execution_count": 137,
   "metadata": {},
   "outputs": [],
   "source": [
    "test = pd.DataFrame([])"
   ]
  },
  {
   "cell_type": "code",
   "execution_count": 202,
   "metadata": {},
   "outputs": [],
   "source": [
    "for p in range(1,3000):\n",
    "    temp = pd.DataFrame([])\n",
    "    inp = int(np.random.randint(final.index[0], final.index[-1], 1))\n",
    "    cluster = final[final['new_cluster']==final['new_cluster'][inp]]\n",
    "    if cluster.fdc_id.count() > 1:\n",
    "        for i in cluster.index:\n",
    "            if cluster['NRFNn.3'][i] > final['NRFNn.3'][inp]:\n",
    "                temp = temp.append(pd.DataFrame({'ID': cluster['fdc_id'][i], \n",
    "                                                 'Alternative Food Option': cluster['description'][i], \n",
    "                                                 'Nutrition Amount': cluster['NRFNn.3'][i]}, index=[0]), \n",
    "                                    ignore_index=True)\n",
    "            else:\n",
    "                pass\n",
    "        #temp.set_index('ID', inplace=True, drop=False)\n",
    "        if temp.ID.count() >= 1:\n",
    "            choice = temp.loc[random.sample(list(temp.index), 1)]\n",
    "            choice.reset_index(drop=True, inplace=True)\n",
    "            test = test.append(pd.DataFrame({'Original_ID': final['fdc_id'][inp], \n",
    "                                                 'Original_Food': final['description'][inp], \n",
    "                                                 'Original_Nutrition': final['NRFNn.3'][inp], \n",
    "                                                 'Alternative_Food_ID': choice['ID'][0], \n",
    "                                                 'Alternative_Food_Choice': choice['Alternative Food Option'][0], \n",
    "                                                 'Alternative_Nutrition': choice['Nutrition Amount'][0]}, index=[0]), \n",
    "                                   ignore_index=True)\n",
    "        else:\n",
    "            pass\n",
    "    else:\n",
    "        pass"
   ]
  },
  {
   "cell_type": "code",
   "execution_count": 204,
   "metadata": {},
   "outputs": [],
   "source": [
    "test.to_csv('Test_Data_v10.csv', index=False)"
   ]
  },
  {
   "cell_type": "code",
   "execution_count": 205,
   "metadata": {},
   "outputs": [
    {
     "data": {
      "text/plain": [
       "(3000, 6)"
      ]
     },
     "execution_count": 205,
     "metadata": {},
     "output_type": "execute_result"
    }
   ],
   "source": [
    "test.shape"
   ]
  }
 ],
 "metadata": {
  "kernelspec": {
   "display_name": "Python 3",
   "language": "python",
   "name": "python3"
  },
  "language_info": {
   "codemirror_mode": {
    "name": "ipython",
    "version": 3
   },
   "file_extension": ".py",
   "mimetype": "text/x-python",
   "name": "python",
   "nbconvert_exporter": "python",
   "pygments_lexer": "ipython3",
   "version": "3.6.5"
  }
 },
 "nbformat": 4,
 "nbformat_minor": 2
}
